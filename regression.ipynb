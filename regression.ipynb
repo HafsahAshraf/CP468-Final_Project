{
 "cells": [
  {
   "cell_type": "code",
   "execution_count": 1,
   "id": "cb03452e",
   "metadata": {},
   "outputs": [],
   "source": [
    "import pandas as pd\n",
    "import matplotlib.pyplot as plt\n",
    "import numpy as np\n",
    "from sklearn import metrics\n",
    "from sklearn.model_selection import train_test_split\n",
    "from sklearn.linear_model import LinearRegression"
   ]
  },
  {
   "cell_type": "code",
   "execution_count": 2,
   "id": "879bec4d",
   "metadata": {},
   "outputs": [],
   "source": [
    "pd.set_option('display.float_format', lambda x: '%.3f' % x)\n",
    "\n",
    "def load_data(country, data_lis):\n",
    "    df = pd.read_csv('owid-covid-data.csv')\n",
    "    df = df[df['location'].isin([country])]\n",
    "    if data_lis != None:\n",
    "        df = df.filter(items=data_lis)\n",
    "\n",
    "    for column in df.columns.values:\n",
    "        df[column] = df[column].fillna(0)\n",
    "        \n",
    "    return df\n",
    "    \n",
    "def add_rows(df, num_rows, fill):\n",
    "    df = df.reset_index()\n",
    "    df = df.drop(['index'], axis=1)\n",
    "    rows = {}\n",
    "    for column in df.columns.values:\n",
    "        rows[column] = [fill for _ in range(num_rows)]\n",
    "    rows = pd.DataFrame(rows) \n",
    "    df = pd.concat([rows, df], ignore_index=True)\n",
    "    df = df.reset_index()\n",
    "    return df\n"
   ]
  },
  {
   "cell_type": "code",
   "execution_count": 3,
   "id": "e270baf0",
   "metadata": {},
   "outputs": [
    {
     "name": "stdout",
     "output_type": "stream",
     "text": [
      "Data and data split info:\n",
      "------------------------\n",
      "size of training data: 710\n",
      "size of testing data:  178\n",
      "number of features:    62\n",
      "------------------------\n"
     ]
    }
   ],
   "source": [
    "columns = ['date', 'total_cases', 'total_deaths', 'total_tests', 'total_vaccinations']\n",
    "days_offset = 3\n",
    "df = load_data('Canada', None)\n",
    "\n",
    "dates = df['date']\n",
    "\n",
    "df = df.drop(['date', 'iso_code', 'continent', 'location', 'tests_units'], axis=1)\n",
    "\n",
    "targets = df['total_cases']\n",
    "features = df.drop(['total_cases'], axis=1)\n",
    "\n",
    "features = add_rows(features, days_offset, 0)\n",
    "future_x = features[-days_offset:]\n",
    "features = features[:-days_offset]\n",
    "\n",
    "train_x, test_x, train_y, test_y = train_test_split(features, targets, test_size=0.2, random_state=43)\n",
    "print('Data and data split info:')\n",
    "print('------------------------')\n",
    "print(f'size of training data: {train_y.size}')\n",
    "print(f'size of testing data:  {test_y.size}')\n",
    "print(f'number of features:    {len(test_x.columns.values)}')\n",
    "print('------------------------')"
   ]
  },
  {
   "cell_type": "code",
   "execution_count": 4,
   "id": "d55187aa",
   "metadata": {},
   "outputs": [
    {
     "name": "stdout",
     "output_type": "stream",
     "text": [
      "coefficients:\n",
      "------------------------\n",
      "                                          name        value\n",
      "41  new_people_vaccinated_smoothed_per_hundred -2516871.112\n",
      "8               new_cases_smoothed_per_million -1531184.981\n",
      "16                   hosp_patients_per_million  -548573.616\n",
      "11             new_deaths_smoothed_per_million  -365578.887\n",
      "14                    icu_patients_per_million  -141536.265\n",
      "3                                 total_deaths   -54764.068\n",
      "37         people_fully_vaccinated_per_hundred   -53607.203\n",
      "27                               positive_rate   -24961.762\n",
      "38                  total_boosters_per_hundred   -22548.508\n",
      "1                                    new_cases   -20144.917\n",
      "4                                   new_deaths    -7419.666\n",
      "39       new_vaccinations_smoothed_per_million      -60.204\n",
      "25                          new_tests_smoothed      -33.822\n",
      "28                              tests_per_case      -33.715\n",
      "42                            stringency_index      -33.688\n",
      "0                                        index      -31.919\n",
      "21                                 total_tests       -7.009\n",
      "29                          total_vaccinations       -0.557\n",
      "22                                   new_tests       -0.376\n",
      "30                           people_vaccinated       -0.064\n",
      "58        excess_mortality_cumulative_absolute       -0.036\n",
      "33                            new_vaccinations       -0.006\n",
      "20          weekly_hosp_admissions_per_million       -0.005\n",
      "56                             life_expectancy       -0.001\n",
      "50                       cardiovasc_death_rate       -0.001\n",
      "45                                  median_age       -0.001\n",
      "53                                male_smokers       -0.001\n",
      "43                                  population       -0.000\n",
      "51                         diabetes_prevalence       -0.000\n",
      "47                               aged_70_older       -0.000\n",
      "52                              female_smokers       -0.000\n",
      "44                          population_density       -0.000\n",
      "49                             extreme_poverty       -0.000\n",
      "54                      handwashing_facilities        0.000\n",
      "57                     human_development_index        0.000\n",
      "55                  hospital_beds_per_thousand        0.000\n",
      "46                               aged_65_older        0.000\n",
      "19                      weekly_hosp_admissions        0.011\n",
      "18           weekly_icu_admissions_per_million        0.021\n",
      "32                              total_boosters        0.061\n",
      "17                       weekly_icu_admissions        0.089\n",
      "31                     people_fully_vaccinated        0.141\n",
      "48                              gdp_per_capita        0.481\n",
      "34                   new_vaccinations_smoothed        1.595\n",
      "61     excess_mortality_cumulative_per_million        2.173\n",
      "40              new_people_vaccinated_smoothed        6.596\n",
      "59                 excess_mortality_cumulative       16.392\n",
      "60                            excess_mortality       19.601\n",
      "6                      total_cases_per_million       38.051\n",
      "12                           reproduction_rate     3096.940\n",
      "13                                icu_patients     3725.303\n",
      "5                          new_deaths_smoothed     9688.578\n",
      "24                      new_tests_per_thousand    13930.890\n",
      "15                               hosp_patients    14405.930\n",
      "36               people_vaccinated_per_hundred    24486.056\n",
      "2                           new_cases_smoothed    40225.230\n",
      "35              total_vaccinations_per_hundred   211903.849\n",
      "23                    total_tests_per_thousand   266837.290\n",
      "10                      new_deaths_per_million   280315.782\n",
      "7                        new_cases_per_million   766879.881\n",
      "26             new_tests_smoothed_per_thousand  1291330.774\n",
      "9                     total_deaths_per_million  2084763.449\n"
     ]
    }
   ],
   "source": [
    "lr = LinearRegression()\n",
    "lr.fit(train_x, train_y)\n",
    "coefficients = pd.concat([pd.DataFrame(train_x.columns),pd.DataFrame(np.transpose(lr.coef_))], keys=['name','value'], axis = 1)\n",
    "coefficients.columns = coefficients.columns.droplevel(1)\n",
    "coefficients = coefficients.sort_values('value')\n",
    "\n",
    "print('coefficients:')\n",
    "print('------------------------')\n",
    "print(coefficients.to_string())"
   ]
  },
  {
   "cell_type": "code",
   "execution_count": 5,
   "id": "35d2875d",
   "metadata": {},
   "outputs": [
    {
     "name": "stdout",
     "output_type": "stream",
     "text": [
      "Analysis of regression\n",
      "------------------------\n",
      "Score: 0.9999746757931892\n",
      "R squared: 0.9999726896454993\n",
      "Mean error: 3057.015806166927 cases\n",
      "------------------------\n"
     ]
    }
   ],
   "source": [
    "#used to generate a large number of predictions for algerithm verification\n",
    "pred_y = lr.predict(test_x)\n",
    "\n",
    "results = pd.DataFrame(pred_y, index=test_y.index, columns = ['pred'])\n",
    "results['real'] = test_y\n",
    "results['index'] = test_y.index\n",
    "results.sort_values('index')\n",
    "\n",
    "\n",
    "print('Analysis of regression')\n",
    "print('------------------------')\n",
    "print(f'Score: {lr.score(features, targets)}')\n",
    "print(f'R squared: {metrics.r2_score(test_y, pred_y)}')\n",
    "print(f'Mean error: {metrics.mean_absolute_error(test_y, pred_y)} cases')\n",
    "print('------------------------')"
   ]
  },
  {
   "cell_type": "code",
   "execution_count": 6,
   "id": "2a1ca038",
   "metadata": {},
   "outputs": [
    {
     "data": {
      "image/png": "[encoded data removed]",
      "text/plain": [
       "<Figure size 432x288 with 1 Axes>"
      ]
     },
     "metadata": {
      "needs_background": "light"
     },
     "output_type": "display_data"
    },
    {
     "data": {
      "image/png": "[encoded data removed]",
      "text/plain": [
       "<Figure size 432x288 with 1 Axes>"
      ]
     },
     "metadata": {
      "needs_background": "light"
     },
     "output_type": "display_data"
    },
    {
     "data": {
      "image/png": "[encoded data removed]",
      "text/plain": [
       "<Figure size 432x288 with 1 Axes>"
      ]
     },
     "metadata": {
      "needs_background": "light"
     },
     "output_type": "display_data"
    }
   ],
   "source": [
    "ax = plt.gca()\n",
    "results.plot(kind='scatter', x='index', y='pred', color='blue', label='Predicted', ax=ax)\n",
    "results.plot(kind='scatter', x='index', y='real', color='red', label='Real', ax=ax)\n",
    "plt.legend(loc=\"upper left\")\n",
    "plt.title('Testing Comparison')\n",
    "plt.show()\n",
    "\n",
    "ax = plt.gca()\n",
    "results.plot(kind='scatter', x='index', y='pred', color='blue', label='Predicted', ax=ax)\n",
    "plt.title('Predicted Values')\n",
    "plt.show()\n",
    "\n",
    "ax = plt.gca()\n",
    "results.plot(kind='scatter', x='index', y='real', color='red', label='Real', ax=ax)\n",
    "plt.title('Real Values')\n",
    "plt.show()"
   ]
  },
  {
   "cell_type": "code",
   "execution_count": 7,
   "id": "73678a79",
   "metadata": {},
   "outputs": [
    {
     "name": "stdout",
     "output_type": "stream",
     "text": [
      "Predicted cases 1 days after 2022-06-28: 3931640\n",
      "Predicted cases 2 days after 2022-06-28: 3935835\n",
      "Predicted cases 3 days after 2022-06-28: 3932369\n"
     ]
    }
   ],
   "source": [
    "future_y = lr.predict(future_x)\n",
    "\n",
    "\n",
    "for i in range(days_offset):\n",
    "    print(f'Predicted cases {i+1} days after {dates.tolist()[-1]}: {int(future_y[-i])}')"
   ]
  }
 ],
 "metadata": {
  "kernelspec": {
   "display_name": "Python 3 (ipykernel)",
   "language": "python",
   "name": "python3"
  },
  "language_info": {
   "codemirror_mode": {
    "name": "ipython",
    "version": 3
   },
   "file_extension": ".py",
   "mimetype": "text/x-python",
   "name": "python",
   "nbconvert_exporter": "python",
   "pygments_lexer": "ipython3",
   "version": "3.9.6"
  },
  "vscode": {
   "interpreter": {
    "hash": "82ed002fa2d4956f5c6aec99bcefe0f73a9f79882f3c9e2319b14958a5896ac5"
   }
  }
 },
 "nbformat": 4,
 "nbformat_minor": 5
}
